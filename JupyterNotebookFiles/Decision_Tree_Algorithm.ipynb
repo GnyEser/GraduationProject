{
 "cells": [
  {
   "cell_type": "markdown",
   "metadata": {},
   "source": [
    "# Decision Tree "
   ]
  },
  {
   "cell_type": "markdown",
   "metadata": {},
   "source": [
    "Decision tree algorithm is a non-parametric data modelling algorithm that basically uses divide-and-conquer strategy. It is a classification algorithm so it is also called <b>Classification Tree</b>. Decision trees are used to separate the dataset into classes belonging to the response variable.\n",
    "<br>A decision tree is formed of two types of nodes: <br> 1- Decision functions which returns yes or no as output <br> 2-  Leaves which are terminal nodes.<br>"
   ]
  },
  {
   "cell_type": "markdown",
   "metadata": {},
   "source": [
    "Simple decision tree example where <b>Xi's</b> are attributes and <b>Ci's</b> are classes:\n",
    "![dt_pic2.PNG](dt_pic2.PNG)\n",
    "(source: The Elements of Statistical Learning - Robert Tibshirani)"
   ]
  },
  {
   "cell_type": "markdown",
   "metadata": {},
   "source": [
    "Imagine we have data of 14 days that shows weather conditions and the Golf Player's decision of play, shown below:"
   ]
  },
  {
   "cell_type": "code",
   "execution_count": 17,
   "metadata": {
    "scrolled": false
   },
   "outputs": [
    {
     "data": {
      "text/html": [
       "<div>\n",
       "<style scoped>\n",
       "    .dataframe tbody tr th:only-of-type {\n",
       "        vertical-align: middle;\n",
       "    }\n",
       "\n",
       "    .dataframe tbody tr th {\n",
       "        vertical-align: top;\n",
       "    }\n",
       "\n",
       "    .dataframe thead th {\n",
       "        text-align: right;\n",
       "    }\n",
       "</style>\n",
       "<table border=\"1\" class=\"dataframe\">\n",
       "  <thead>\n",
       "    <tr style=\"text-align: right;\">\n",
       "      <th></th>\n",
       "      <th>Outlook</th>\n",
       "      <th>Humidity</th>\n",
       "      <th>Wind</th>\n",
       "      <th>Play</th>\n",
       "    </tr>\n",
       "  </thead>\n",
       "  <tbody>\n",
       "    <tr>\n",
       "      <th>0</th>\n",
       "      <td>sunny</td>\n",
       "      <td>high</td>\n",
       "      <td>weak</td>\n",
       "      <td>no</td>\n",
       "    </tr>\n",
       "    <tr>\n",
       "      <th>1</th>\n",
       "      <td>sunny</td>\n",
       "      <td>high</td>\n",
       "      <td>strong</td>\n",
       "      <td>no</td>\n",
       "    </tr>\n",
       "    <tr>\n",
       "      <th>2</th>\n",
       "      <td>overcast</td>\n",
       "      <td>high</td>\n",
       "      <td>weak</td>\n",
       "      <td>yes</td>\n",
       "    </tr>\n",
       "    <tr>\n",
       "      <th>3</th>\n",
       "      <td>rain</td>\n",
       "      <td>high</td>\n",
       "      <td>weak</td>\n",
       "      <td>yes</td>\n",
       "    </tr>\n",
       "    <tr>\n",
       "      <th>4</th>\n",
       "      <td>rain</td>\n",
       "      <td>normal</td>\n",
       "      <td>weak</td>\n",
       "      <td>yes</td>\n",
       "    </tr>\n",
       "    <tr>\n",
       "      <th>5</th>\n",
       "      <td>rain</td>\n",
       "      <td>normal</td>\n",
       "      <td>strong</td>\n",
       "      <td>no</td>\n",
       "    </tr>\n",
       "    <tr>\n",
       "      <th>6</th>\n",
       "      <td>overcast</td>\n",
       "      <td>normal</td>\n",
       "      <td>strong</td>\n",
       "      <td>yes</td>\n",
       "    </tr>\n",
       "    <tr>\n",
       "      <th>7</th>\n",
       "      <td>sunny</td>\n",
       "      <td>high</td>\n",
       "      <td>weak</td>\n",
       "      <td>no</td>\n",
       "    </tr>\n",
       "    <tr>\n",
       "      <th>8</th>\n",
       "      <td>sunny</td>\n",
       "      <td>normal</td>\n",
       "      <td>weak</td>\n",
       "      <td>yes</td>\n",
       "    </tr>\n",
       "    <tr>\n",
       "      <th>9</th>\n",
       "      <td>rain</td>\n",
       "      <td>normal</td>\n",
       "      <td>weak</td>\n",
       "      <td>yes</td>\n",
       "    </tr>\n",
       "    <tr>\n",
       "      <th>10</th>\n",
       "      <td>sunny</td>\n",
       "      <td>normal</td>\n",
       "      <td>strong</td>\n",
       "      <td>yes</td>\n",
       "    </tr>\n",
       "    <tr>\n",
       "      <th>11</th>\n",
       "      <td>overcast</td>\n",
       "      <td>high</td>\n",
       "      <td>strong</td>\n",
       "      <td>yes</td>\n",
       "    </tr>\n",
       "    <tr>\n",
       "      <th>12</th>\n",
       "      <td>overcast</td>\n",
       "      <td>normal</td>\n",
       "      <td>weak</td>\n",
       "      <td>yes</td>\n",
       "    </tr>\n",
       "    <tr>\n",
       "      <th>13</th>\n",
       "      <td>rain</td>\n",
       "      <td>high</td>\n",
       "      <td>strong</td>\n",
       "      <td>no</td>\n",
       "    </tr>\n",
       "  </tbody>\n",
       "</table>\n",
       "</div>"
      ],
      "text/plain": [
       "     Outlook Humidity    Wind Play\n",
       "0      sunny     high    weak   no\n",
       "1      sunny     high  strong   no\n",
       "2   overcast     high    weak  yes\n",
       "3       rain     high    weak  yes\n",
       "4       rain   normal    weak  yes\n",
       "5       rain   normal  strong   no\n",
       "6   overcast   normal  strong  yes\n",
       "7      sunny     high    weak   no\n",
       "8      sunny   normal    weak  yes\n",
       "9       rain   normal    weak  yes\n",
       "10     sunny   normal  strong  yes\n",
       "11  overcast     high  strong  yes\n",
       "12  overcast   normal    weak  yes\n",
       "13      rain     high  strong   no"
      ]
     },
     "execution_count": 17,
     "metadata": {},
     "output_type": "execute_result"
    }
   ],
   "source": [
    "import pandas as pd\n",
    "pd.read_csv(\"golfy.csv\",delimiter=\";\")"
   ]
  },
  {
   "cell_type": "markdown",
   "metadata": {},
   "source": [
    "Assume that we are trying to predict whether the player is going to play or not on 15th day if the weather is <br><b>Outlook:</b> Rain <br> <b>Humidity:</b> High <br> <b>Wind:</b> Weak  "
   ]
  },
  {
   "cell_type": "markdown",
   "metadata": {},
   "source": [
    "To build the tree, we need to use the core algorithm of decision tree which does most of the divide-and-conquer job.<br> That algorithm is called <b>ID3 (Iterative Dichotomiser 3). </b>Developed by J. R. Quinlan. <br>ID3 algorithm helps us find which attribute is more informative and then split if necessary. <br>\n",
    "<h3>Steps of ID3 Algorithm:</h3> <br>\n",
    "1 - Find the most informative attribute of the data, call it decision attribute and make it the root node <br>\n",
    "2 - Split it and create new child nodes for each value of decision attribute <br>\n",
    "3 - Distribute the training data to child nodes <br>\n",
    "4 - For each child node: <br>\n",
    "    if, subset is <b>pure</b> : STOP <br>\n",
    "    else, create new node from child nodes.\n",
    "<hr>"
   ]
  },
  {
   "cell_type": "markdown",
   "metadata": {},
   "source": [
    "<h2>How do we find the most informative attribute ?</h2>"
   ]
  },
  {
   "cell_type": "markdown",
   "metadata": {},
   "source": [
    "As we are going to split the most informative attribute first, as the root node, the basic idea is, somehow we need to measure the purity of the subset which we obtained by splitting that attribute. So ideally, we need to pick such an attribute that has purest subsets. Suppose we are looking into a particular subset, after we have splited the data, how uncertain we are whether a random item from that subset is positive or negative?"
   ]
  },
  {
   "cell_type": "markdown",
   "metadata": {},
   "source": [
    "For example:\n",
    "![wind.png](wind.png) consider the attribute <b>Wind</b> as the root node, the days when wind is weak, player played golf on 6 of those days and didn't play on 2 of those days. When wind is strong, it is 3 days of yes and 3 days of no which is a complete uncertainity. Subsets are not pure as seen. But how do we measure purity?"
   ]
  },
  {
   "cell_type": "markdown",
   "metadata": {},
   "source": [
    "<h2>Entropy</h2>"
   ]
  },
  {
   "cell_type": "markdown",
   "metadata": {},
   "source": [
    "It is a way to measure the uncertainity (or purity) of a class in a subset of examples. Entropy denoted by E (and sometimes H) gives a number between 0 and 1, where 0 is certain and 1 is totally uncertain."
   ]
  },
  {
   "cell_type": "markdown",
   "metadata": {},
   "source": [
    "![entropy.png](entropy.png)"
   ]
  },
  {
   "cell_type": "markdown",
   "metadata": {},
   "source": [
    "Where <b>Pi</b> is the probability of a class in the data. <br> <b>S:</b> Subset of training examples. <br> <b> C:</b> Classes <br> So, if we go back to the subsets we obtained from Wind attribute, entropy of <b>weak wind</b> subset is:"
   ]
  },
  {
   "cell_type": "markdown",
   "metadata": {},
   "source": [
    "$$ -\\dfrac{6}{8}log_2\\dfrac{6}{8} - \\dfrac{2}{8}log_2\\dfrac{2}{8}\\approx0,80$$ <br><br>where 6 yes / 2 no on the days where wind is weak. Entropy of <b>strong wind</b> subset is: <br><br> <br>\n",
    "$$ -\\dfrac{3}{6}log_2\\dfrac{3}{6} - \\dfrac{3}{6}log_2\\dfrac{3}{6}=1$$"
   ]
  },
  {
   "cell_type": "markdown",
   "metadata": {},
   "source": [
    "Graph of Entropy:![entropy2.png](entropy2.png) (source: Data Science for Business - Foster Provost & Tom Fawcett) "
   ]
  },
  {
   "cell_type": "markdown",
   "metadata": {},
   "source": [
    "After calculating Entropy of subsets, we need to decide which attribute is informative most. This is where we need to use <b>Information Gain </b> formula:"
   ]
  },
  {
   "cell_type": "markdown",
   "metadata": {},
   "source": [
    "$$Gain(T,X) = E(T) - E(T,X)$$"
   ]
  },
  {
   "cell_type": "markdown",
   "metadata": {},
   "source": [
    "where X stands for attributes and T is the target set. If we go back to our example, we need to calculate all three Information Gain for each attributes and then decide our root node with the highest Information Gain:<br><br>\n",
    "$$Gain(Play,Outlook) = E(Play) - E(Play,Outlook)$$ <br>\n",
    "$$Gain(Play,Humidity) = E(Play) - E(Play,Humidity)$$ <br>\n",
    "$$Gain(Play,Wind) = E(Play) - E(Play,Wind)$$<br>"
   ]
  },
  {
   "cell_type": "markdown",
   "metadata": {},
   "source": [
    "Let's calculate the <b>Information Gain</b> for the <b>Wind</b> attribute to visualize the step:<br><br>$$Gain(Play,Wind) = E(Play) - E(Play,Wind)$$<br><br>\n",
    "$$E(Play) = -\\dfrac{5}{14}log_2\\dfrac{5}{14} - \\dfrac{9}{14}log_2\\dfrac{9}{14}\\approx 0,94$$ <br><br>\n",
    "$$E(Play, Wind) = P(Wind_{Weak})\\times E(Wind_{Weak}) + P(Wind_{Strong})\\times E(Wind_{Strong}) $$ <br><br>\n",
    "$$E(Play,Wind) = \\dfrac{8}{14}\\times 0,80 + \\dfrac{6}{14}\\times 1\\approx 0,88$$<br><br>\n",
    "$${Gain(Play,Wind) = 0,94 - 0,88 = 0.06}$$"
   ]
  },
  {
   "cell_type": "markdown",
   "metadata": {},
   "source": [
    "The attribute with the highest Gain is going to be the root node of the tree. If we calculate the Information Gain for all the attributes in our example, we can see that <b>Outlook</b> attribute has the largest Information Gain. So it is going to be the root node. When we complete the steps of ID3 algorithm, we would have a tree like below:"
   ]
  },
  {
   "cell_type": "markdown",
   "metadata": {},
   "source": [
    "![tree.png](tree.png)"
   ]
  },
  {
   "cell_type": "markdown",
   "metadata": {},
   "source": [
    "After creating the tree, let's recall what we are trying to predict:\n",
    "<br><b>Outlook:</b> Rain <br> <b>Humidity:</b> High <br> <b>Wind:</b> Weak <br><b>Play :</b> ? <br>\n",
    "We can see that our data has a path root node through a terminal leaf:<br> <b>Outlook</b> --> <b>Rain</b> --> <b>Weak</b> --> <b>Play : YES</b>"
   ]
  },
  {
   "cell_type": "code",
   "execution_count": null,
   "metadata": {},
   "outputs": [],
   "source": []
  }
 ],
 "metadata": {
  "kernelspec": {
   "display_name": "Python 3",
   "language": "python",
   "name": "python3"
  },
  "language_info": {
   "codemirror_mode": {
    "name": "ipython",
    "version": 3
   },
   "file_extension": ".py",
   "mimetype": "text/x-python",
   "name": "python",
   "nbconvert_exporter": "python",
   "pygments_lexer": "ipython3",
   "version": "3.6.4"
  }
 },
 "nbformat": 4,
 "nbformat_minor": 2
}
